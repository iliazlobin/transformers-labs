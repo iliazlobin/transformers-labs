{
 "cells": [
  {
   "cell_type": "code",
   "execution_count": 8,
   "metadata": {},
   "outputs": [],
   "source": [
    "%%capture\n",
    "%load_ext dotenv\n",
    "%dotenv\n",
    "%pip install azure-identity azure-mgmt-compute azure-mgmt-resource\n"
   ]
  },
  {
   "cell_type": "code",
   "execution_count": 18,
   "metadata": {},
   "outputs": [],
   "source": [
    "import os\n",
    "from azure.identity import DefaultAzureCredential\n",
    "from azure.mgmt.compute import ComputeManagementClient\n",
    "from azure.mgmt.resource import ResourceManagementClient\n",
    "from azure.mgmt.compute.models import UsageName\n",
    "\n",
    "credential = DefaultAzureCredential()\n",
    "subscription_id = os.environ[\"AZURE_SUBSCRIPTION_ID\"]\n",
    "compute_client = ComputeManagementClient(credential, subscription_id)\n",
    "resource_client = ResourceManagementClient(credential, subscription_id)\n",
    "\n",
    "provider = resource_client.providers.get(\"Microsoft.Compute\")\n",
    "regions = [\n",
    "    resource_type.locations\n",
    "    for resource_type in provider.resource_types\n",
    "    if resource_type.resource_type == \"virtualMachines\"\n",
    "][0]\n",
    "# availability_sets = compute_client.availability_sets.list_by_resource_group(\"machine-learning\")\n",
    "\n",
    "for region in regions:\n",
    "    vm_sizes = compute_client.virtual_machine_sizes.list(location=region)\n",
    "    for size in vm_sizes:\n",
    "        if size.name == \"NC24ads_A100_v4\":\n",
    "            print(f\"{size.name} is available in {region}\")\n",
    "\n",
    "            # # Check quotas\n",
    "            # usages = compute_client.usage.list(location=region)\n",
    "            # for usage in usages:\n",
    "            #     if usage.name.value == \"Standard_D4_v5\":\n",
    "            #         print(f\"Quota for {size.name} in {region}: {usage.current_value}/{usage.limit}\")\n"
   ]
  }
 ],
 "metadata": {
  "kernelspec": {
   "display_name": "pytorch",
   "language": "python",
   "name": "python3"
  },
  "language_info": {
   "codemirror_mode": {
    "name": "ipython",
    "version": 3
   },
   "file_extension": ".py",
   "mimetype": "text/x-python",
   "name": "python",
   "nbconvert_exporter": "python",
   "pygments_lexer": "ipython3",
   "version": "3.12.2"
  }
 },
 "nbformat": 4,
 "nbformat_minor": 2
}
