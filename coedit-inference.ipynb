{
 "cells": [
  {
   "cell_type": "code",
   "execution_count": 2,
   "metadata": {},
   "outputs": [],
   "source": [
    "%%capture\n",
    "%load_ext dotenv\n",
    "%dotenv\n",
    "%pip install transformers\n",
    "!huggingface-cli login --token $HUGGING_FACE_TOKEN\n"
   ]
  },
  {
   "cell_type": "code",
   "execution_count": 3,
   "metadata": {},
   "outputs": [],
   "source": [
    "# imports\n",
    "\n",
    "from transformers import AutoTokenizer, T5ForConditionalGeneration"
   ]
  },
  {
   "cell_type": "code",
   "execution_count": 4,
   "metadata": {},
   "outputs": [],
   "source": [
    "# load model\n",
    "\n",
    "model_name = \"grammarly/coedit-large\" # 770B\n",
    "# model_name = \"grammarly/coedit-xl\" # 3B\n",
    "# model_name = \"grammarly/coedit-xll\" # 11B\n",
    "\n",
    "tokenizer = AutoTokenizer.from_pretrained(model_name)\n",
    "# model = T5ForConditionalGeneration.from_pretrained(model_name, device_map=\"auto\")\n",
    "model = T5ForConditionalGeneration.from_pretrained(model_name)\n",
    "\n",
    "# print(\"Tokenizer file path:\", tokenizer.name_or_path)\n",
    "# print(\"Model file path:\", model.pretrained_init_configuration[\"cache_dir\"])"
   ]
  },
  {
   "cell_type": "code",
   "execution_count": 5,
   "metadata": {},
   "outputs": [
    {
     "name": "stdout",
     "output_type": "stream",
     "text": [
      "Total Parameters: 2849642496\n",
      "Trainable Parameters: 2849642496\n",
      "Estimated model memory: 10.62 GB\n"
     ]
    }
   ],
   "source": [
    "model = T5ForConditionalGeneration.from_pretrained(model_name)\n",
    "\n",
    "# for param_tensor in model.state_dict():\n",
    "#     print(param_tensor, \"\\t\", model.state_dict()[param_tensor].size())\n",
    "\n",
    "total_params = sum(p.numel() for p in model.parameters())\n",
    "print(f'Total Parameters: {total_params}')\n",
    "\n",
    "total_trainable_params = sum(p.numel() for p in model.parameters() if p.requires_grad)\n",
    "print(f'Trainable Parameters: {total_trainable_params}')\n",
    "\n",
    "total_memory_GB = total_params * 4 / (1024 ** 3)\n",
    "print(f'Estimated model memory: {total_memory_GB:.2f} GB')"
   ]
  },
  {
   "cell_type": "code",
   "execution_count": 9,
   "metadata": {},
   "outputs": [
    {
     "name": "stdout",
     "output_type": "stream",
     "text": [
      "Number of GPUs available: 1\n",
      "Device 0: NVIDIA GeForce RTX 3080\n",
      "Memory Usage:\n",
      "Allocated: 0.00 GB\n",
      "Reserved:   0.00 GB\n",
      "0\n"
     ]
    }
   ],
   "source": [
    "# available devicesimport torch\n",
    "\n",
    "import torch\n",
    "\n",
    "if torch.cuda.is_available():\n",
    "    print(\"Number of GPUs available:\", torch.cuda.device_count())\n",
    "\n",
    "    for i in range(torch.cuda.device_count()):\n",
    "        device = torch.device(f\"cuda:{i}\")\n",
    "        print(f\"Device {i}: {torch.cuda.get_device_name(i)}\")\n",
    "        print(f\"Memory Usage:\")\n",
    "        print(f\"Allocated: {torch.cuda.memory_allocated(device)/1024**3:.2f} GB\")\n",
    "        print(f\"Reserved:   {torch.cuda.memory_reserved(device)/1024**3:.2f} GB\")\n",
    "else:\n",
    "    print(\"No GPUs available, running on CPU.\")\n",
    "\n",
    "# torch.cuda.empty_cache()\n",
    "print(f\"{torch.cuda.memory_allocated(device)}\")"
   ]
  },
  {
   "cell_type": "code",
   "execution_count": 14,
   "metadata": {},
   "outputs": [
    {
     "name": "stdout",
     "output_type": "stream",
     "text": [
      "Allocated: 7.71 GB\n",
      "Reserved:   7.73 GB\n"
     ]
    },
    {
     "name": "stderr",
     "output_type": "stream",
     "text": [
      "WARNING:root:Some parameters are on the meta device device because they were offloaded to the cpu and disk.\n"
     ]
    },
    {
     "name": "stdout",
     "output_type": "stream",
     "text": [
      "Allocated: 7.71 GB\n",
      "Reserved: 7.73 GB\n",
      "Result: [{'generated_text': 'As I grow up, I start to understand what he said is quite right.'}]\n"
     ]
    }
   ],
   "source": [
    "from unittest.util import _MAX_LENGTH\n",
    "import torch\n",
    "from transformers import AutoTokenizer, T5ForConditionalGeneration\n",
    "from transformers import pipeline\n",
    "from transformers.pipelines.pt_utils import KeyDataset\n",
    "\n",
    "# torch.cuda.empty_cache()\n",
    "print(f\"Allocated: {torch.cuda.memory_allocated(device)/1024**3:.2f} GB\")\n",
    "print(f\"Reserved:   {torch.cuda.memory_reserved(device)/1024**3:.2f} GB\")\n",
    "\n",
    "pipe = pipeline(\"text2text-generation\", model=model_name, tokenizer=model_name, device_map=\"auto\", max_length=128)\n",
    "result = pipe(\"Fix grammatical errors in this sentence: When I grow up, I start to understand what he said is quite right\")\n",
    "print(f\"Result: {result}\")\n",
    "\n",
    "print(f\"Allocated: {torch.cuda.memory_allocated(device)/1024**3:.2f} GB\")\n",
    "print(f\"Reserved: {torch.cuda.memory_reserved(device)/1024**3:.2f} GB\")"
   ]
  },
  {
   "cell_type": "code",
   "execution_count": 7,
   "metadata": {},
   "outputs": [
    {
     "name": "stdout",
     "output_type": "stream",
     "text": [
      "As I grow up, I start to understand what he said is quite right.\n"
     ]
    },
    {
     "ename": "",
     "evalue": "",
     "output_type": "error",
     "traceback": [
      "\u001b[1;31mThe Kernel crashed while executing code in the current cell or a previous cell. \n",
      "\u001b[1;31mPlease review the code in the cell(s) to identify a possible cause of the failure. \n",
      "\u001b[1;31mClick <a href='https://aka.ms/vscodeJupyterKernelCrash'>here</a> for more info. \n",
      "\u001b[1;31mView Jupyter <a href='command:jupyter.viewOutput'>log</a> for further details."
     ]
    }
   ],
   "source": [
    "input_text = \"Fix grammatical errors in this sentence: When I grow up, I start to understand what he said is quite right.\"\n",
    "input_ids = tokenizer(input_text, return_tensors=\"pt\").input_ids\n",
    "outputs = model.generate(input_ids, max_length=256)\n",
    "edited_text = tokenizer.decode(outputs[0], skip_special_tokens=True, max_length=128)\n",
    "print(edited_text)"
   ]
  }
 ],
 "metadata": {
  "kernelspec": {
   "display_name": "tech",
   "language": "python",
   "name": "python3"
  },
  "language_info": {
   "codemirror_mode": {
    "name": "ipython",
    "version": 3
   },
   "file_extension": ".py",
   "mimetype": "text/x-python",
   "name": "python",
   "nbconvert_exporter": "python",
   "pygments_lexer": "ipython3",
   "version": "3.12.2"
  }
 },
 "nbformat": 4,
 "nbformat_minor": 2
}
